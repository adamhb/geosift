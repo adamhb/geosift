{
 "cells": [
  {
   "cell_type": "code",
   "execution_count": 73,
   "id": "e601cfbb-e51d-4eba-a69e-831f9eaf465e",
   "metadata": {},
   "outputs": [],
   "source": [
    "import os\n",
    "# Setting this as environmental variables means I don't have to enter the api keys in each call to the APIs\n",
    "\n",
    "import requests\n",
    "from bs4 import BeautifulSoup\n",
    "from langchain.chains.api.base import APIChain\n",
    "from langchain_openai import OpenAI\n",
    "from langchain.callbacks import get_openai_callback\n",
    "import inspect\n",
    "from langchain_core.prompts.base import BasePromptTemplate\n",
    "from langchain import PromptTemplate\n",
    "import ipywidgets as widgets\n",
    "from IPython.display import display"
   ]
  },
  {
   "cell_type": "code",
   "execution_count": 87,
   "id": "dda76aa3-3e02-45cd-a1ad-994e72c25167",
   "metadata": {},
   "outputs": [],
   "source": [
    "def get_text_from_web(url):\n",
    "    \n",
    "    # Fetch the content of the URL\n",
    "    response = requests.get(url)\n",
    "    \n",
    "    # Use BeautifulSoup to parse the HTML content\n",
    "    soup = BeautifulSoup(response.content, 'html.parser')\n",
    "    \n",
    "    # Extract all text from the webpage\n",
    "    text = soup.get_text(separator=' ', strip=True)\n",
    "    \n",
    "    # Print the extracted text\n",
    "    return text\n",
    "\n",
    "def get_text_from_file(file):\n",
    "    with open(file, 'r') as file:\n",
    "        data = file.read()#.replace('\\n', '')\n",
    "        return data\n",
    "\n",
    "def count_tokens(chain, query):\n",
    "    with get_openai_callback() as cb:\n",
    "        result = chain.run(query)\n",
    "        pprint.pprint(f'Spent a total of {cb.total_tokens} tokens')\n",
    "\n",
    "    return result"
   ]
  },
  {
   "cell_type": "markdown",
   "id": "5b12b823-2dc8-4648-a4cc-b371b7492888",
   "metadata": {},
   "source": [
    "## Templates"
   ]
  },
  {
   "cell_type": "code",
   "execution_count": 134,
   "id": "aa130065-c44f-4971-a909-cea2208d6e37",
   "metadata": {},
   "outputs": [],
   "source": [
    "my_response_template = '''\n",
    "You are given the below API Documentation:\n",
    "{api_docs}\n",
    "\n",
    "Using this documentation, generate the full API url to call for answering the user question.\n",
    "Pay attention to deliberately exclude any unnecessary pieces of data in the API call.\n",
    "Question:{question}\n",
    "API url: {api_url}\n",
    "\n",
    "Here is the response from the API:\n",
    "{api_response}\n",
    "\n",
    "Provide the data that was requested by the user.\n",
    "Provide the full citation to the user: How to cite: Thornton; M.M.; R. Shrestha; Y. Wei; P.E. Thornton; S-C. Kao; and B.E. Wilson. 2022. Daymet: Daily Surface Weather Data on a 1-km Grid for North America; Version 4 R1. ORNL DAAC; Oak Ridge; Tennessee; USA. https://doi.org/10.3334/ORNLDAAC/2129\n",
    "\n",
    "Make sure the table has all the data points that the user wants. If the user asks for a month of data, such as July, then you should return all data points for all days of that month.\n",
    "\n",
    "data:\n",
    "'''\n",
    "\n",
    "\n",
    "modis_response_template = '''\n",
    "You are given the below API Documentation:\n",
    "{api_docs}\n",
    "\n",
    "Using this documentation, generate the full API url to call for answering the user question.\n",
    "Pay attention to deliberately exclude any unnecessary pieces of data in the API call.\n",
    "Question:{question}\n",
    "API url: {api_url}\n",
    "\n",
    "Here is the response from the API:\n",
    "{api_response}\n",
    "\n",
    "Use the response from the API to provide the data that was requested. Always report the units of the data and adjust for an offset if it exists.\n",
    "Data:\n",
    "'''"
   ]
  },
  {
   "cell_type": "markdown",
   "id": "97617b1c-2a9f-4725-bf85-dc9201332d88",
   "metadata": {},
   "source": [
    "## API testing ground"
   ]
  },
  {
   "cell_type": "code",
   "execution_count": 133,
   "id": "32aaf4bf-5618-4664-b47d-abddf06b3381",
   "metadata": {},
   "outputs": [],
   "source": [
    "# import requests\n",
    "# header = {'Accept': 'application/json'}\n",
    "\n",
    "# # Use following for a csv response:\n",
    "# # header = {'Accept': 'text/csv'}\n",
    "# my_lat = 34.334459834357986\n",
    "# my_lon = -118.05277394802319\n",
    "# my_url = 'https://modis.ornl.gov/rst/api/v1/ECO4ESIPTJPL/subset?latitude=35.958767&longitude=-84.287433&startDate=A2018049&endDate=A2018049&kmAboveBelow=0.1&kmLeftRight=0.1'\n",
    "# npp_url = f'https://modis.ornl.gov/rst/api/v1/MOD17A3HGF/subset?latitude={my_lat}&longitude={my_lon}&product=MOD17A3HGF&startDate=A2002001&endDate=A2005365&kmAboveBelow=0&kmLeftRight=0'\n",
    "# response = requests.get(\n",
    "#     npp_url, headers=header)\n",
    "# print(response.json())"
   ]
  },
  {
   "cell_type": "markdown",
   "id": "24ae4f72-b431-4f66-8579-7292a5a9fd08",
   "metadata": {},
   "source": [
    "## Prompts"
   ]
  },
  {
   "cell_type": "code",
   "execution_count": 135,
   "id": "3be5ad77-99a6-4bae-b65a-d86b96c0065f",
   "metadata": {},
   "outputs": [],
   "source": [
    "my_response_prompt = PromptTemplate(input_variables=['api_docs', 'question'], template=my_response_template)\n",
    "modis_response_prompt = PromptTemplate(input_variables=['api_docs', 'question'], template=modis_response_template)"
   ]
  },
  {
   "cell_type": "markdown",
   "id": "a9074868-6e8a-4404-8ac5-d1bdff3b7891",
   "metadata": {},
   "source": [
    "## MODIS API chain\n",
    "\n",
    "Pick up with adding the other modis product names to the api docs text file."
   ]
  },
  {
   "cell_type": "code",
   "execution_count": 136,
   "id": "92d801d8-f695-4e4a-8ca3-0c137fe03cc6",
   "metadata": {},
   "outputs": [],
   "source": [
    "modis_docs = get_text_from_file('modis_docs.txt')\n",
    "open_ai_llm = OpenAI()\n",
    "modis_chain = APIChain.from_llm_and_api_docs(open_ai_llm,\n",
    "                                           modis_docs,\n",
    "                                           verbose=True,\n",
    "                                           api_response_prompt= modis_response_prompt,\n",
    "                                           limit_to_domains=['https://modis.ornl.gov/rst/api/v1/'])\n",
    "\n",
    "inputs = {\"question\": \"Can you get NPP data for Deukmejian Wilderness Park for 2010?\"}\n",
    "output = modis_chain._call(inputs)\n",
    "output = output['output']\n",
    "pprint.pprint(output)"
   ]
  },
  {
   "cell_type": "markdown",
   "id": "aca309a2-52d2-4a90-8455-ddfc3509389e",
   "metadata": {},
   "source": [
    "## Daymet API chain"
   ]
  },
  {
   "cell_type": "code",
   "execution_count": 138,
   "id": "09e6b36a-d741-47ab-ba12-805576803e1a",
   "metadata": {},
   "outputs": [
    {
     "name": "stdout",
     "output_type": "stream",
     "text": [
      "('year,yday,srad (W/m^2)\\n'\n",
      " '2010,182,506.82\\n'\n",
      " '2010,183,509.35\\n'\n",
      " '2010,184,471.11\\n'\n",
      " '2010,185,456.51\\n'\n",
      " '2010,186,403.86\\n'\n",
      " '2010,187,404.60\\n'\n",
      " '2010,188,435.36\\n'\n",
      " '2010,189,387.53\\n'\n",
      " '2010,190,487.16\\n'\n",
      " '2010,191,495.68\\n'\n",
      " '2010,192,484.37\\n'\n",
      " '2010,193,474.03\\n'\n",
      " '2010,194,564.88\\n'\n",
      " '2010,195,574.72\\n'\n",
      " '2010,196,532.36\\n'\n",
      " '2010,197,550.60\\n'\n",
      " '2010,198,538.44\\n'\n",
      " '2010,199,517.40\\n'\n",
      " '2010,200,499.06\\n'\n",
      " '2010,201,451.52\\n'\n",
      " '2010,202,428.50\\n'\n",
      " '2010,203,436.48\\n'\n",
      " '2010,204,485.66\\n'\n",
      " '2010,205,494.12\\n'\n",
      " '2010,206,476.87\\n'\n",
      " '2010,207,453.41\\n'\n",
      " '2010,208,454.38\\n'\n",
      " '2010')\n"
     ]
    }
   ],
   "source": [
    "daymet_docs = get_text_from_file('daymet_docs.txt')\n",
    "open_ai_llm = OpenAI()\n",
    "api_chain = APIChain.from_llm_and_api_docs(open_ai_llm,\n",
    "                                           daymet_docs,\n",
    "                                           verbose=True,\n",
    "                                           api_response_prompt= my_response_prompt,\n",
    "                                           limit_to_domains=['https://daymet.ornl.gov/single-pixel/api/data'])\n",
    "\n",
    "#vars(api_chain)\n",
    "\n",
    "# Define your question\n",
    "inputs = {\"question\": \"Can you get solar radiation data from Daymet for Los Angeles for the whole month of July 2010?\"}\n",
    "\n",
    "#Ways to call chain\n",
    "\n",
    "# 1\n",
    "#output = api_chain.run(inputs)\n",
    "\n",
    "# 2\n",
    "output = api_chain._call(inputs)\n",
    "output = output['output']\n",
    "\n",
    "# 3\n",
    "#count_tokens(api_chain, inputs)\n",
    "\n",
    "pprint.pprint(output)"
   ]
  }
 ],
 "metadata": {
  "kernelspec": {
   "display_name": "ai_dog",
   "language": "python",
   "name": "ai_dog"
  },
  "language_info": {
   "codemirror_mode": {
    "name": "ipython",
    "version": 3
   },
   "file_extension": ".py",
   "mimetype": "text/x-python",
   "name": "python",
   "nbconvert_exporter": "python",
   "pygments_lexer": "ipython3",
   "version": "3.12.2"
  }
 },
 "nbformat": 4,
 "nbformat_minor": 5
}
